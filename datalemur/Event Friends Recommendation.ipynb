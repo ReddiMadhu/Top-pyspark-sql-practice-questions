{
 "cells": [
  {
   "cell_type": "markdown",
   "metadata": {
    "application/vnd.databricks.v1+cell": {
     "cellMetadata": {},
     "inputWidgets": {},
     "nuid": "df5eb3b8-632d-4b91-82d3-2b15d407883a",
     "showTitle": false,
     "tableResultSettingsMap": {},
     "title": ""
    }
   },
   "source": [
    "Event Friends Recommendation\n"
   ]
  },
  {
   "cell_type": "code",
   "execution_count": 0,
   "metadata": {
    "application/vnd.databricks.v1+cell": {
     "cellMetadata": {
      "byteLimit": 2048000,
      "rowLimit": 10000
     },
     "inputWidgets": {},
     "nuid": "6720218d-4c76-4f59-83cd-58c0e6c59dbc",
     "showTitle": false,
     "tableResultSettingsMap": {},
     "title": ""
    }
   },
   "outputs": [],
   "source": [
    "from pyspark.sql import Row\n",
    "\n",
    "# Create friendship_status DataFrame\n",
    "friendship_status_data = [\n",
    "    Row(user_a_id=111, user_b_id=333, status='not_friends'),\n",
    "    Row(user_a_id=222, user_b_id=333, status='not_friends'),\n",
    "    Row(user_a_id=333, user_b_id=222, status='not_friends'),\n",
    "    Row(user_a_id=222, user_b_id=111, status='friends'),\n",
    "    Row(user_a_id=111, user_b_id=222, status='friends'),\n",
    "    Row(user_a_id=333, user_b_id=111, status='not_friends')\n",
    "]\n",
    "friendship_status = spark.createDataFrame(friendship_status_data)\n",
    "\n",
    "# Create event_rsvp DataFrame\n",
    "event_rsvp_data = [\n",
    "    Row(user_id=111, event_id=567, event_type='public', attendance_status='going', event_date='07/12/2022'),\n",
    "    Row(user_id=222, event_id=789, event_type='private', attendance_status='going', event_date='07/15/2022'),\n",
    "    Row(user_id=333, event_id=789, event_type='private', attendance_status='maybe', event_date='07/15/2022'),\n",
    "    Row(user_id=111, event_id=234, event_type='private', attendance_status='not_going', event_date='07/18/2022'),\n",
    "    Row(user_id=222, event_id=234, event_type='private', attendance_status='going', event_date='07/18/2022'),\n",
    "    Row(user_id=333, event_id=234, event_type='private', attendance_status='going', event_date='07/18/2022')\n",
    "]\n",
    "event_rsvp = spark.createDataFrame(event_rsvp_data)\n",
    "\n",
    "# Register as temp views for SQL\n",
    "friendship_status.createOrReplaceTempView(\"friendship_status\")\n",
    "event_rsvp.createOrReplaceTempView(\"event_rsvp\")\n"
   ]
  },
  {
   "cell_type": "code",
   "execution_count": 0,
   "metadata": {
    "application/vnd.databricks.v1+cell": {
     "cellMetadata": {},
     "inputWidgets": {},
     "nuid": "e52667d0-a7a3-4cae-8d73-9561dc40441f",
     "showTitle": false,
     "tableResultSettingsMap": {},
     "title": ""
    }
   },
   "outputs": [],
   "source": [
    "\n",
    "# SQL query for recommendation\n",
    "result = spark.sql(\"\"\"\n",
    "WITH private_events AS (\n",
    "  SELECT user_id, event_id\n",
    "  FROM event_rsvp\n",
    "  WHERE attendance_status IN ('going', 'maybe')\n",
    "    AND event_type = 'private'\n",
    ")\n",
    "SELECT \n",
    "  friends.user_a_id, \n",
    "  friends.user_b_id\n",
    "FROM private_events AS events_1\n",
    "INNER JOIN private_events AS events_2\n",
    "  ON events_1.user_id != events_2.user_id\n",
    "  AND events_1.event_id = events_2.event_id\n",
    "INNER JOIN friendship_status AS friends\n",
    "  ON events_1.user_id = friends.user_a_id\n",
    "  AND events_2.user_id = friends.user_b_id\n",
    "WHERE friends.status = 'not_friends'\n",
    "GROUP BY friends.user_a_id, friends.user_b_id\n",
    "HAVING COUNT(*) >= 2\n",
    "ORDER BY friends.user_a_id, friends.user_b_id\n",
    "\"\"\")\n",
    "\n",
    "display(result)"
   ]
  },
  {
   "cell_type": "code",
   "execution_count": 0,
   "metadata": {
    "application/vnd.databricks.v1+cell": {
     "cellMetadata": {},
     "inputWidgets": {},
     "nuid": "4a0b18de-0009-4549-8d5c-85a2066c9a55",
     "showTitle": false,
     "tableResultSettingsMap": {},
     "title": ""
    }
   },
   "outputs": [],
   "source": [
    "from pyspark.sql.functions import col\n",
    "\n",
    "# Filter private events with attendance_status 'going' or 'maybe'\n",
    "private_events = event_rsvp.filter(\n",
    "    (col(\"attendance_status\").isin(\"going\", \"maybe\")) &\n",
    "    (col(\"event_type\") == \"private\")\n",
    ").select(\"user_id\", \"event_id\")\n",
    "\n",
    "# Self-join to find user pairs attending same private event\n",
    "events_1 = private_events.alias(\"events_1\")\n",
    "events_2 = private_events.alias(\"events_2\")\n",
    "user_pairs = events_1.join(\n",
    "    events_2,\n",
    "    (col(\"events_1.event_id\") == col(\"events_2.event_id\")) &\n",
    "    (col(\"events_1.user_id\") != col(\"events_2.user_id\"))\n",
    ").select(\n",
    "    col(\"events_1.user_id\").alias(\"user_a_id\"),\n",
    "    col(\"events_2.user_id\").alias(\"user_b_id\")\n",
    ")\n",
    "\n",
    "# Join with friendship_status to get not_friends pairs\n",
    "not_friends = user_pairs.join(\n",
    "    friendship_status,\n",
    "    (user_pairs.user_a_id == friendship_status.user_a_id) &\n",
    "    (user_pairs.user_b_id == friendship_status.user_b_id) &\n",
    "    (friendship_status.status == \"not_friends\")\n",
    ")\n",
    "\n",
    "# Group by user_a_id, user_b_id and filter pairs with at least 2 shared events\n",
    "result = not_friends.groupBy(\"user_a_id\", \"user_b_id\").count().filter(col(\"count\") >= 2).orderBy(\"user_a_id\", \"user_b_id\")\n",
    "\n",
    "display(result)"
   ]
  }
 ],
 "metadata": {
  "application/vnd.databricks.v1+notebook": {
   "computePreferences": null,
   "dashboards": [],
   "environmentMetadata": {
    "base_environment": "",
    "environment_version": "2"
   },
   "inputWidgetPreferences": null,
   "language": "python",
   "notebookMetadata": {
    "pythonIndentUnit": 4
   },
   "notebookName": "Event Friends Recommendation",
   "widgets": {}
  },
  "language_info": {
   "name": "python"
  }
 },
 "nbformat": 4,
 "nbformat_minor": 0
}
