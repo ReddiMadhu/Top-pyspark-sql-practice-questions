{
 "cells": [
  {
   "cell_type": "markdown",
   "metadata": {
    "application/vnd.databricks.v1+cell": {
     "cellMetadata": {},
     "inputWidgets": {},
     "nuid": "b278ae0a-9932-4477-9966-ae144433f6ac",
     "showTitle": false,
     "tableResultSettingsMap": {},
     "title": ""
    }
   },
   "source": [
    "Uniquely Staffed Consultants\n"
   ]
  },
  {
   "cell_type": "code",
   "execution_count": 0,
   "metadata": {
    "application/vnd.databricks.v1+cell": {
     "cellMetadata": {
      "byteLimit": 2048000,
      "rowLimit": 10000
     },
     "inputWidgets": {},
     "nuid": "2cbd92d8-c2cb-4489-95af-418be0c45b47",
     "showTitle": false,
     "tableResultSettingsMap": {},
     "title": ""
    }
   },
   "outputs": [],
   "source": [
    "from pyspark.sql import SparkSession\n",
    "from pyspark.sql.types import StructType, StructField, IntegerType, StringType\n",
    "\n",
    "# Initialize Spark session\n",
    "\n",
    "# 1. employees DataFrame\n",
    "employees_schema = StructType([\n",
    "    StructField(\"employee_id\", IntegerType(), True),\n",
    "    StructField(\"engagement_id\", IntegerType(), True)\n",
    "])\n",
    "\n",
    "employees_data = [\n",
    "    (1001, 1),\n",
    "    (1001, 2),\n",
    "    (1002, 1),\n",
    "    (1003, 3),\n",
    "    (1004, 4)\n",
    "]\n",
    "\n",
    "employees_df = spark.createDataFrame(employees_data, schema=employees_schema)\n",
    "\n",
    "# 2. consulting_engagements DataFrame\n",
    "engagements_schema = StructType([\n",
    "    StructField(\"engagement_id\", IntegerType(), True),\n",
    "    StructField(\"project_name\", StringType(), True),\n",
    "    StructField(\"client_name\", StringType(), True)\n",
    "])\n",
    "\n",
    "engagements_data = [\n",
    "    (1, \"SAP Logistics Modernization\", \"Department of Defense\"),\n",
    "    (2, \"Oracle Cloud Migration\", \"Department of Education\"),\n",
    "    (3, \"Trust & Safety Operations\", \"Google\"),\n",
    "    (4, \"SAP IoT Cloud Integration\", \"Google\")\n",
    "]\n",
    "\n",
    "consulting_engagements_df = spark.createDataFrame(engagements_data, schema=engagements_schema)\n",
    "\n",
    "# Show the DataFrames\n",
    "print(\"Employees DataFrame:\")\n",
    "employees_df.show(truncate=False)\n",
    "\n",
    "print(\"Consulting Engagements DataFrame:\")\n",
    "consulting_engagements_df.show(truncate=False)\n"
   ]
  },
  {
   "cell_type": "code",
   "execution_count": 0,
   "metadata": {
    "application/vnd.databricks.v1+cell": {
     "cellMetadata": {
      "byteLimit": 2048000,
      "rowLimit": 10000
     },
     "inputWidgets": {},
     "nuid": "edb084b1-2d62-444e-bab4-0827da3f71fa",
     "showTitle": false,
     "tableResultSettingsMap": {},
     "title": ""
    }
   },
   "outputs": [],
   "source": [
    "from pyspark.sql.functions import countDistinct\n",
    "\n",
    "# Join employees with engagements to get client_name per employee\n",
    "joined_df = employees_df.join(\n",
    "    consulting_engagements_df,\n",
    "    \"engagement_id\",\n",
    "    \"inner\"\n",
    ")\n",
    "\n",
    "# Find the number of unique clients each employee is staffed to\n",
    "employee_client_counts = joined_df.groupBy(\"employee_id\").agg(\n",
    "    countDistinct(\"client_name\").alias(\"client_count\"),\n",
    "    # For later join, get the client_name(s) for each employee\n",
    "    # If an employee is staffed to only one client, this will be that client\n",
    "    # Otherwise, will be multiple rows per employee\n",
    ")\n",
    "\n",
    "# Filter employees exclusively staffed to a single client\n",
    "exclusive_employees = joined_df.join(\n",
    "    employee_client_counts,\n",
    "    \"employee_id\"\n",
    ").filter(\n",
    "    \"client_count = 1\"\n",
    ")\n",
    "\n",
    "# For each client, count the number of exclusively staffed consultants\n",
    "exclusive_counts = exclusive_employees.groupBy(\"client_name\").agg(\n",
    "    countDistinct(\"employee_id\").alias(\"exclusively_staffed\")\n",
    ")\n",
    "\n",
    "# For each client, count the total number of unique consultants staffed\n",
    "total_counts = joined_df.groupBy(\"client_name\").agg(\n",
    "    countDistinct(\"employee_id\").alias(\"total_staffed\")\n",
    ")\n",
    "\n",
    "# Join both counts on client_name\n",
    "result_df = total_counts.join(\n",
    "    exclusive_counts,\n",
    "    \"client_name\",\n",
    "    \"left\"\n",
    ").orderBy(\"client_name\")\n",
    "\n",
    "display(result_df)"
   ]
  }
 ],
 "metadata": {
  "application/vnd.databricks.v1+notebook": {
   "computePreferences": null,
   "dashboards": [],
   "environmentMetadata": {
    "base_environment": "",
    "environment_version": "2"
   },
   "inputWidgetPreferences": null,
   "language": "python",
   "notebookMetadata": {
    "pythonIndentUnit": 4
   },
   "notebookName": "Uniquely Staffed Consultants",
   "widgets": {}
  },
  "language_info": {
   "name": "python"
  }
 },
 "nbformat": 4,
 "nbformat_minor": 0
}
